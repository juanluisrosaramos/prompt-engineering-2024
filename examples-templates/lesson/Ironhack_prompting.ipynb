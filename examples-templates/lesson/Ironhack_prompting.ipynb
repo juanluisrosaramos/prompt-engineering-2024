{
  "cells": [
    {
      "cell_type": "markdown",
      "id": "02294fd1-bc42-416a-b0cb-34d6d22b20cd",
      "metadata": {
        "id": "02294fd1-bc42-416a-b0cb-34d6d22b20cd"
      },
      "source": [
        "#### Notes on using the OpenAI API outside of this classroom\n",
        "\n",
        "To install the OpenAI Python library:\n",
        "```\n",
        "!pip install openai\n",
        "```\n",
        "\n",
        "The library needs to be configured with your account's secret key, which is available on the [website](https://platform.openai.com/account/api-keys).\n",
        "\n",
        "You can either set it as the `OPENAI_API_KEY` environment variable before using the library:\n",
        " ```\n",
        " !export OPENAI_API_KEY='sk-...'\n",
        " ```\n",
        "\n",
        "Or, set `openai.api_key` to its value:\n",
        "\n",
        "```\n",
        "import openai\n",
        "openai.api_key = \"sk-...\"\n",
        "```"
      ]
    },
    {
      "cell_type": "code",
      "source": [
        "!pip install openai"
      ],
      "metadata": {
        "id": "2--Cae5Tmr4y",
        "colab": {
          "base_uri": "https://localhost:8080/"
        },
        "outputId": "c1b8286b-5a4e-4c3c-9af6-9389fec021c5"
      },
      "id": "2--Cae5Tmr4y",
      "execution_count": 1,
      "outputs": [
        {
          "output_type": "stream",
          "name": "stdout",
          "text": [
            "Installing collected packages: h11, httpcore, httpx, openai\n",
            "Successfully installed h11-0.14.0 httpcore-1.0.4 httpx-0.27.0 openai-1.13.3\n"
          ]
        }
      ]
    },
    {
      "cell_type": "code",
      "source": [
        "import openai"
      ],
      "metadata": {
        "id": "_wBNWc-dA5Cj"
      },
      "id": "_wBNWc-dA5Cj",
      "execution_count": 2,
      "outputs": []
    },
    {
      "cell_type": "markdown",
      "id": "7ebe2e9d-685d-4ea3-ab7c-9589caaabff5",
      "metadata": {
        "id": "7ebe2e9d-685d-4ea3-ab7c-9589caaabff5"
      },
      "source": [
        "# Guidelines for Prompting\n",
        "In this lesson, you'll practice two prompting principles and their related tactics in order to write effective prompts for large language models.\n",
        "\n",
        "## Setup\n",
        "#### Load the API key and relevant Python libaries."
      ]
    },
    {
      "cell_type": "markdown",
      "id": "00bab499-9a50-4bd0-a622-1c914c6ccc29",
      "metadata": {
        "id": "00bab499-9a50-4bd0-a622-1c914c6ccc29"
      },
      "source": [
        "In this course, we've provided some code that loads the OpenAI API key for you."
      ]
    },
    {
      "cell_type": "code",
      "source": [
        "from google.colab import userdata\n",
        "openai.api_key  = userdata.get('OPENAI_API_KEY')"
      ],
      "metadata": {
        "id": "vPzeqsi9AjHd"
      },
      "id": "vPzeqsi9AjHd",
      "execution_count": 3,
      "outputs": []
    },
    {
      "cell_type": "markdown",
      "id": "a3acefa8-f8f1-4ef8-932e-9bcefa142666",
      "metadata": {
        "id": "a3acefa8-f8f1-4ef8-932e-9bcefa142666"
      },
      "source": [
        "#### helper function\n",
        "Throughout this course, we will use OpenAI's `gpt-3.5-turbo` model and the [chat completions endpoint](https://platform.openai.com/docs/guides/chat).\n",
        "\n",
        "This helper function will make it easier to use prompts and look at the generated outputs:"
      ]
    },
    {
      "cell_type": "code",
      "execution_count": 4,
      "id": "a7dff174",
      "metadata": {
        "id": "a7dff174"
      },
      "outputs": [],
      "source": [
        "def get_completion(prompt, model=\"gpt-3.5-turbo\",temperature=0):\n",
        "    messages = [{\"role\": \"user\", \"content\": prompt}]\n",
        "    response = openai.chat.completions.create(\n",
        "        model=model,\n",
        "        messages=messages,\n",
        "       temperature=temperature, # this is the degree of randomness of the model's output\n",
        "    )\n",
        "    return response"
      ]
    },
    {
      "cell_type": "markdown",
      "id": "3b62298e-2181-4e73-bb40-77e20c655231",
      "metadata": {
        "id": "3b62298e-2181-4e73-bb40-77e20c655231"
      },
      "source": [
        "## Prompting Principles\n",
        "- **Principle 1: Write clear and specific instructions**\n",
        "- **Principle 2: Give the model time to “think”**\n",
        "\n",
        "### Tactics\n",
        "\n",
        "#### Use delimiters to clearly indicate distinct parts of the input\n",
        "- Delimiters can be anything like: ```, \"\"\", < >, `<tag> </tag>`, `:`"
      ]
    },
    {
      "cell_type": "code",
      "execution_count": 5,
      "id": "87121316",
      "metadata": {
        "colab": {
          "base_uri": "https://localhost:8080/"
        },
        "id": "87121316",
        "outputId": "6fcae576-4095-42b4-8c80-050bc0ef596c"
      },
      "outputs": [
        {
          "output_type": "stream",
          "name": "stdout",
          "text": [
            "It is important to provide clear and specific instructions to guide a model towards the desired output and reduce the chances of receiving irrelevant or incorrect responses, even if it means writing a longer prompt for more clarity and context.\n"
          ]
        }
      ],
      "source": [
        "text = f\"\"\"\n",
        "You should express what you want a model to do by \\\n",
        "providing instructions that are as clear and \\\n",
        "specific as you can possibly make them. \\\n",
        "This will guide the model towards the desired output, \\\n",
        "and reduce the chances of receiving irrelevant \\\n",
        "or incorrect responses. Don't confuse writing a \\\n",
        "clear prompt with writing a short prompt. \\\n",
        "In many cases, longer prompts provide more clarity \\\n",
        "and context for the model, which can lead to \\\n",
        "more detailed and relevant outputs.\n",
        "\"\"\"\n",
        "prompt = f\"\"\"\n",
        "Summarize the text delimited by triple backticks \\\n",
        "into a single sentence.\n",
        "```{text}```\n",
        "\"\"\"\n",
        "response = get_completion(prompt)\n",
        "print(response.choices[0].message.content)\n",
        "\n"
      ]
    },
    {
      "cell_type": "code",
      "source": [
        "print(response)\n"
      ],
      "metadata": {
        "colab": {
          "base_uri": "https://localhost:8080/"
        },
        "id": "RbuHMK9psarJ",
        "outputId": "fa5d87a6-5eb1-479f-a077-c018459b1f47"
      },
      "id": "RbuHMK9psarJ",
      "execution_count": 6,
      "outputs": [
        {
          "output_type": "stream",
          "name": "stdout",
          "text": [
            "ChatCompletion(id='chatcmpl-8xZVfXdmZoAmRPAxTSh1z3BURFm0F', choices=[Choice(finish_reason='stop', index=0, logprobs=None, message=ChatCompletionMessage(content='It is important to provide clear and specific instructions to guide a model towards the desired output and reduce the chances of receiving irrelevant or incorrect responses, even if it means writing a longer prompt for more clarity and context.', role='assistant', function_call=None, tool_calls=None))], created=1709208543, model='gpt-3.5-turbo-0125', object='chat.completion', system_fingerprint='fp_86156a94a0', usage=CompletionUsage(completion_tokens=42, prompt_tokens=112, total_tokens=154))\n"
          ]
        }
      ]
    },
    {
      "cell_type": "markdown",
      "id": "f2798f3d-7618-4ac5-a6b2-3c69c537903d",
      "metadata": {
        "id": "f2798f3d-7618-4ac5-a6b2-3c69c537903d"
      },
      "source": [
        "#### Tactic 1: Ask for a structured output\n",
        "- JSON, HTML"
      ]
    },
    {
      "cell_type": "code",
      "execution_count": 8,
      "id": "6b50bbbd",
      "metadata": {
        "id": "6b50bbbd",
        "outputId": "5700ae10-31e3-4590-d2b0-131db8986ca0",
        "colab": {
          "base_uri": "https://localhost:8080/"
        }
      },
      "outputs": [
        {
          "output_type": "stream",
          "name": "stdout",
          "text": [
            "[\n",
            "    {\n",
            "        \"book_id\": 1,\n",
            "        \"title\": \"Rogue Justice\",\n",
            "        \"author\": \"Max Steel\",\n",
            "        \"genre\": \"Action\"\n",
            "    },\n",
            "    {\n",
            "        \"book_id\": 2,\n",
            "        \"title\": \"Shadow Strike\",\n",
            "        \"author\": \"Samantha Blaze\",\n",
            "        \"genre\": \"Action\"\n",
            "    },\n",
            "    {\n",
            "        \"book_id\": 3,\n",
            "        \"title\": \"Code Redemption\",\n",
            "        \"author\": \"Jake Fury\",\n",
            "        \"genre\": \"Action\"\n",
            "    }\n",
            "]\n"
          ]
        }
      ],
      "source": [
        "prompt = f\"\"\"\n",
        "Generate a list of three made-up action movies titles along \\\n",
        "with their authors and genres.\n",
        "Provide them in html format with the following keys:\n",
        "book_id, title, author, genre.\n",
        "\"\"\"\n",
        "response = get_completion(prompt)\n",
        "print(response.choices[0].message.content)\n"
      ]
    },
    {
      "cell_type": "markdown",
      "id": "22a71c4f-b1f1-4d67-ad5a-e49fc1e3147d",
      "metadata": {
        "id": "22a71c4f-b1f1-4d67-ad5a-e49fc1e3147d"
      },
      "source": [
        "#### Tactic 2: Ask the model to check whether conditions are satisfied"
      ]
    },
    {
      "cell_type": "code",
      "execution_count": 9,
      "id": "f0ae612e",
      "metadata": {
        "id": "f0ae612e",
        "colab": {
          "base_uri": "https://localhost:8080/"
        },
        "outputId": "d52e112e-cb24-46a9-e05e-24c1d93366c8"
      },
      "outputs": [
        {
          "output_type": "stream",
          "name": "stdout",
          "text": [
            "Completion for Text 1:\n",
            "Step 1 - Get some water boiling.\n",
            "Step 2 - Grab a cup and put a tea bag in it.\n",
            "Step 3 - Pour the hot water over the tea bag.\n",
            "Step 4 - Let the tea steep for a few minutes.\n",
            "Step 5 - Remove the tea bag.\n",
            "Step 6 - Add sugar or milk to taste.\n",
            "Step 7 - Enjoy your delicious cup of tea.\n"
          ]
        }
      ],
      "source": [
        "text = f\"\"\"\n",
        "Making a cup of tea is easy! First, you need to get some \\\n",
        "water boiling. While that's happening, \\\n",
        "grab a cup and put a tea bag in it. Once the water is \\\n",
        "hot enough, just pour it over the tea bag. \\\n",
        "Let it sit for a bit so the tea can steep. After a \\\n",
        "few minutes, take out the tea bag. If you \\\n",
        "like, you can add some sugar or milk to taste. \\\n",
        "And that's it! You've got yourself a delicious \\\n",
        "cup of tea to enjoy.\n",
        "\"\"\"\n",
        "\n",
        "prompt = f\"\"\"\n",
        "You will be provided with text delimited by triple quotes.\n",
        "If it contains a sequence of instructions, \\\n",
        "re-write those instructions in the following format:\n",
        "\n",
        "Step 1 - ...\n",
        "Step 2 - …\n",
        "…\n",
        "Step N - …\n",
        "\n",
        "If the text does not contain a sequence of instructions, \\\n",
        "then simply write \\\"No steps provided.\\\"\n",
        "\n",
        "\\\"\\\"\\\"{text}\\\"\\\"\\\"\n",
        "\"\"\"\n",
        "response = get_completion(prompt)\n",
        "print(\"Completion for Text 1:\")\n",
        "print(response.choices[0].message.content)\n"
      ]
    },
    {
      "cell_type": "code",
      "execution_count": 10,
      "id": "76b6cc59",
      "metadata": {
        "id": "76b6cc59",
        "colab": {
          "base_uri": "https://localhost:8080/"
        },
        "outputId": "d7f8004e-25a8-4119-a1eb-4391e29f9711"
      },
      "outputs": [
        {
          "output_type": "stream",
          "name": "stdout",
          "text": [
            "Completion for Text 2:\n",
            "No steps provided.\n"
          ]
        }
      ],
      "source": [
        "text_2 = f\"\"\"\n",
        "The sun is shining brightly today, and the birds are \\\n",
        "singing. It's a beautiful day to go for a \\\n",
        "walk in the park. The flowers are blooming, and the \\\n",
        "trees are swaying gently in the breeze. People \\\n",
        "are out and about, enjoying the lovely weather. \\\n",
        "Some are having picnics, while others are playing \\\n",
        "games or simply relaxing on the grass. It's a \\\n",
        "perfect day to spend time outdoors and appreciate the \\\n",
        "beauty of nature.\n",
        "\"\"\"\n",
        "prompt = f\"\"\"\n",
        "You will be provided with text delimited by triple quotes.\n",
        "If it contains a sequence of instructions, \\\n",
        "re-write those instructions in the following format:\n",
        "\n",
        "Step 1 - ...\n",
        "Step 2 - …\n",
        "…\n",
        "Step N - …\n",
        "\n",
        "If the text does not contain a sequence of instructions, \\\n",
        "then simply write \\\"No steps provided.\\\"\n",
        "\n",
        "\\\"\\\"\\\"{text_2}\\\"\\\"\\\"\n",
        "\"\"\"\n",
        "response = get_completion(prompt)\n",
        "print(\"Completion for Text 2:\")\n",
        "print(response.choices[0].message.content)\n"
      ]
    },
    {
      "cell_type": "markdown",
      "id": "3c5866b8-d8c7-4e19-93db-401315f64954",
      "metadata": {
        "id": "3c5866b8-d8c7-4e19-93db-401315f64954"
      },
      "source": [
        "\n",
        "#### Tactic 3: \"Few-shot\" prompting"
      ]
    },
    {
      "cell_type": "code",
      "execution_count": 11,
      "id": "82ce1540",
      "metadata": {
        "id": "82ce1540",
        "colab": {
          "base_uri": "https://localhost:8080/"
        },
        "outputId": "5d0dbb8b-1689-4210-f485-3720d58f615b"
      },
      "outputs": [
        {
          "output_type": "stream",
          "name": "stdout",
          "text": [
            "<grandparent>: Just as a tree bends but does not break in the face of a strong wind, resilience is the ability to bounce back from challenges and setbacks. It is the strength to keep going even when things get tough, knowing that every storm eventually passes.\n"
          ]
        }
      ],
      "source": [
        "prompt = f\"\"\"\n",
        "Your task is to answer in a consistent style.\n",
        "\n",
        "<child>: Teach me about patience.\n",
        "\n",
        "<grandparent>: The river that carves the deepest \\\n",
        "valley flows from a modest spring; the \\\n",
        "grandest symphony originates from a single note; \\\n",
        "the most intricate tapestry begins with a solitary thread.\n",
        "\n",
        "<child>: Teach me about resilience.\n",
        "\"\"\"\n",
        "response = get_completion(prompt)\n",
        "print(response.choices[0].message.content)\n"
      ]
    },
    {
      "cell_type": "markdown",
      "id": "ece7a8ee-1a2d-415d-8c10-500ecff24b10",
      "metadata": {
        "id": "ece7a8ee-1a2d-415d-8c10-500ecff24b10"
      },
      "source": [
        "### Principle 2: Give the model time to “think”\n",
        "\n",
        "#### Tactic 1: Specify the steps required to complete a task"
      ]
    },
    {
      "cell_type": "code",
      "execution_count": 14,
      "id": "5e7d6860",
      "metadata": {
        "id": "5e7d6860",
        "colab": {
          "base_uri": "https://localhost:8080/"
        },
        "outputId": "d9d796b4-25ed-4794-cc98-8192b1282255"
      },
      "outputs": [
        {
          "output_type": "stream",
          "name": "stdout",
          "text": [
            "Completion for prompt 1:\n",
            "1 - Jack and Jill go on a quest to fetch water from a well, but encounter misfortune along the way, yet remain adventurous and joyful.\n",
            "\n",
            "2 - Jack et Jill partent en quête d'eau d'un puits, mais rencontrent des malheurs en chemin, tout en restant aventureux et joyeux.\n",
            "\n",
            "3 - Jack, Jill\n",
            "\n",
            "4 - \n",
            "{\n",
            "  \"french_summary\": \"Jack et Jill partent en quête d'eau d'un puits, mais rencontrent des malheurs en chemin, tout en restant aventureux et joyeux.\",\n",
            "  \"num_names\": 2\n",
            "}\n"
          ]
        }
      ],
      "source": [
        "text = f\"\"\"\n",
        "In a charming village, siblings Jack and Jill set out on \\\n",
        "a quest to fetch water from a hilltop \\\n",
        "well. As they climbed, singing joyfully, misfortune \\\n",
        "struck—Jack tripped on a stone and tumbled \\\n",
        "down the hill, with Jill and following suit. \\\n",
        "Though slightly battered, the pair returned home to \\\n",
        "comforting embraces. Despite the mishap, \\\n",
        "their adventurous spirits remained undimmed, and they \\\n",
        "continued exploring with delight.\n",
        "\"\"\"\n",
        "# example 1\n",
        "prompt_1 = f\"\"\"\n",
        "Perform the following actions:\n",
        "1 - Summarize the following text delimited by triple \\\n",
        "backticks with 1 sentence.\n",
        "2 - Translate the summary into French.\n",
        "3 - List each name in the French summary.\n",
        "4 - Output a json object that contains the following \\\n",
        "keys: french_summary, num_names.\n",
        "\n",
        "Separate your answers with line breaks.\n",
        "\n",
        "Text:\n",
        "```{text}```\n",
        "\"\"\"\n",
        "response = get_completion(prompt_1)\n",
        "print(\"Completion for prompt 1:\")\n",
        "print(response.choices[0].message.content)\n"
      ]
    },
    {
      "cell_type": "markdown",
      "id": "fec80fdb-92db-48f6-8f1d-b03c26385bad",
      "metadata": {
        "id": "fec80fdb-92db-48f6-8f1d-b03c26385bad"
      },
      "source": [
        "#### Tactic 2: Instruct the model to work out its own solution before rushing to a conclusion"
      ]
    },
    {
      "cell_type": "code",
      "execution_count": 15,
      "id": "ff5cc985",
      "metadata": {
        "id": "ff5cc985",
        "colab": {
          "base_uri": "https://localhost:8080/"
        },
        "outputId": "5fa21542-b6d4-498a-df67-19b39ba0c43f"
      },
      "outputs": [
        {
          "output_type": "stream",
          "name": "stdout",
          "text": [
            "The student's solution is correct. The total cost for the first year of operations as a function of the number of square feet is indeed 450x + 100,000.\n"
          ]
        }
      ],
      "source": [
        "prompt = f\"\"\"\n",
        "Determine if the student's solution is correct or not.\n",
        "\n",
        "Question:\n",
        "I'm building a solar power installation and I need \\\n",
        " help working out the financials.\n",
        "- Land costs $100 / square foot\n",
        "- I can buy solar panels for $250 / square foot\n",
        "- I negotiated a contract for maintenance that will cost \\\n",
        "me a flat $100k per year, and an additional $10 / square \\\n",
        "foot\n",
        "What is the total cost for the first year of operations\n",
        "as a function of the number of square feet.\n",
        "\n",
        "Student's Solution:\n",
        "Let x be the size of the installation in square feet.\n",
        "Costs:\n",
        "1. Land cost: 100x\n",
        "2. Solar panel cost: 250x\n",
        "3. Maintenance cost: 100,000 + 100x\n",
        "Total cost: 100x + 250x + 100,000 + 100x = 450x + 100,000\n",
        "\"\"\"\n",
        "response = get_completion(prompt)\n",
        "print(response.choices[0].message.content)\n"
      ]
    },
    {
      "cell_type": "markdown",
      "id": "f322ebd9-0f8a-43aa-97fe-5eac70cdcc6a",
      "metadata": {
        "id": "f322ebd9-0f8a-43aa-97fe-5eac70cdcc6a"
      },
      "source": [
        "#### Note that the student's solution is actually not correct.\n",
        "#### We can fix this by instructing the model to work out its own solution first."
      ]
    },
    {
      "cell_type": "code",
      "execution_count": 16,
      "id": "703f7003",
      "metadata": {
        "id": "703f7003",
        "colab": {
          "base_uri": "https://localhost:8080/"
        },
        "outputId": "ec3ce65b-71f2-4ea7-8dd7-2fb9a7a3c7bd"
      },
      "outputs": [
        {
          "output_type": "stream",
          "name": "stdout",
          "text": [
            "To calculate the total cost for the first year of operations as a function of the number of square feet, we need to consider the costs for land, solar panels, and maintenance.\n",
            "\n",
            "Let x be the size of the installation in square feet.\n",
            "\n",
            "Costs:\n",
            "1. Land cost: $100 * x\n",
            "2. Solar panel cost: $250 * x\n",
            "3. Maintenance cost: $100,000 + $10 * x\n",
            "\n",
            "Total cost: $100 * x + $250 * x + $100,000 + $10 * x\n",
            "Total cost: $350 * x + $100,000\n",
            "\n",
            "Therefore, the total cost for the first year of operations as a function of the number of square feet is 350x + 100,000.\n",
            "\n",
            "Is the student's solution the same as the actual solution just calculated:\n",
            "```\n",
            "No\n",
            "```\n",
            "Student grade:\n",
            "```\n",
            "incorrect\n",
            "```\n"
          ]
        }
      ],
      "source": [
        "prompt = f\"\"\"\n",
        "Your task is to determine if the student's solution \\\n",
        "is correct or not.\n",
        "To solve the problem do the following:\n",
        "- First, work out your own solution to the problem.\n",
        "- Then compare your solution to the student's solution \\\n",
        "and evaluate if the student's solution is correct or not.\n",
        "Don't decide if the student's solution is correct until\n",
        "you have done the problem yourself.\n",
        "\n",
        "Use the following format:\n",
        "Question:\n",
        "```\n",
        "question here\n",
        "```\n",
        "Student's solution:\n",
        "```\n",
        "student's solution here\n",
        "```\n",
        "Actual solution:\n",
        "```\n",
        "steps to work out the solution and your solution here\n",
        "```\n",
        "Is the student's solution the same as actual solution \\\n",
        "just calculated:\n",
        "```\n",
        "yes or no\n",
        "```\n",
        "Student grade:\n",
        "```\n",
        "correct or incorrect\n",
        "```\n",
        "\n",
        "Question:\n",
        "```\n",
        "I'm building a solar power installation and I need help \\\n",
        "working out the financials.\n",
        "- Land costs $100 / square foot\n",
        "- I can buy solar panels for $250 / square foot\n",
        "- I negotiated a contract for maintenance that will cost \\\n",
        "me a flat $100k per year, and an additional $10 / square \\\n",
        "foot\n",
        "What is the total cost for the first year of operations \\\n",
        "as a function of the number of square feet.\n",
        "```\n",
        "Student's solution:\n",
        "```\n",
        "Let x be the size of the installation in square feet.\n",
        "Costs:\n",
        "1. Land cost: 100x\n",
        "2. Solar panel cost: 250x\n",
        "3. Maintenance cost: 100,000 + 100x\n",
        "Total cost: 100x + 250x + 100,000 + 100x = 450x + 100,000\n",
        "```\n",
        "Actual solution:\n",
        "\"\"\"\n",
        "response = get_completion(prompt)\n",
        "print(response.choices[0].message.content)\n"
      ]
    },
    {
      "cell_type": "markdown",
      "id": "8a207eab-a1b1-47a5-b913-fe38086123d0",
      "metadata": {
        "id": "8a207eab-a1b1-47a5-b913-fe38086123d0"
      },
      "source": [
        "## Model Limitations: Hallucinations\n",
        "\n",
        "Makes statements that sound plausible but are not true\n",
        "\n",
        "- Boie is a real company, the product name is not real."
      ]
    },
    {
      "cell_type": "code",
      "execution_count": null,
      "id": "81c80919",
      "metadata": {
        "id": "81c80919",
        "colab": {
          "base_uri": "https://localhost:8080/"
        },
        "outputId": "d1a0bdd9-ed47-44f3-ada7-60352d0e736f"
      },
      "outputs": [
        {
          "output_type": "stream",
          "name": "stdout",
          "text": [
            "The AeroGlide UltraSlim Smart Toothbrush by Boie is a high-tech toothbrush designed to provide a superior cleaning experience. It features a sleek and slim design that makes it easy to hold and maneuver in the mouth. The toothbrush is equipped with smart technology that tracks your brushing habits and provides real-time feedback to help you improve your oral hygiene routine.\n",
            "\n",
            "The brush head is made of soft, durable bristles that are gentle on the gums and teeth, while still effectively removing plaque and debris. The toothbrush also has a built-in timer and pressure sensor to ensure that you are brushing for the recommended amount of time and with the right amount of pressure.\n",
            "\n",
            "The AeroGlide UltraSlim Smart Toothbrush is rechargeable and comes with a charging base that can be easily plugged into any USB port. It is also water-resistant, making it easy to clean and maintain. Overall, this toothbrush is a great option for those looking for a high-quality, smart toothbrush that can help improve their oral health.\n"
          ]
        }
      ],
      "source": [
        "prompt = f\"\"\"\n",
        "Tell me about AeroGlide UltraSlim Smart Toothbrush by Boie\n",
        "\"\"\"\n",
        "response = get_completion(prompt)\n",
        "print(response.choices[0].message.content)\n"
      ]
    },
    {
      "cell_type": "code",
      "execution_count": null,
      "id": "77457878",
      "metadata": {
        "id": "77457878",
        "colab": {
          "base_uri": "https://localhost:8080/"
        },
        "outputId": "35a48d49-1aec-49d4-deff-093d2132a5b0"
      },
      "outputs": [
        {
          "output_type": "stream",
          "name": "stdout",
          "text": [
            "1. Just got my hands on the AeroGlide UltraSlim Smart Toothbrush by Boie and I'm in love! 😍 Say goodbye to bulky toothbrushes and hello to sleek design and effective cleaning. #gamechanger #innovation\n",
            "\n",
            "2. The AeroGlide UltraSlim Smart Toothbrush by Boie is a game-changer for my oral hygiene routine. 🦷 With its smart technology and slim design, I feel like I'm getting a professional cleaning every time I brush. #cleanfreak #obsessed\n",
            "\n",
            "3. Can't get enough of the AeroGlide UltraSlim Smart Toothbrush by Boie! 😁 It's like having a personal dentist in the palm of my hand. Say hello to a brighter smile and healthier gums. #smilegoals #oralhealth\n",
            "\n",
            "4. The AeroGlide UltraSlim Smart Toothbrush by Boie has revolutionized my brushing experience. 🌟 With its sleek design and advanced features, I actually look forward to brushing my teeth now. #selfcare #healthyliving\n"
          ]
        }
      ],
      "source": [
        "prompt = f\"\"\"\n",
        "Tell me about AeroGlide UltraSlim Smart Toothbrush by Boie\n",
        "I want the output as 4 tweets with emotive hastags\n",
        "\"\"\"\n",
        "response = get_completion(prompt)\n",
        "print(response.choices[0].message.content)\n"
      ]
    },
    {
      "cell_type": "markdown",
      "source": [
        "# Summarizing, Inferring, Transforming, Expanding\n",
        "\n",
        "In this lesson, you'll learn how to cover the classical NLP tasks applying it to an ecommerce company"
      ],
      "metadata": {
        "id": "UbACpxPT8tQY"
      },
      "id": "UbACpxPT8tQY"
    },
    {
      "cell_type": "code",
      "source": [
        "prod_review = \"\"\"\n",
        "Got this panda plush toy for my daughter's birthday, \\\n",
        "who loves it and takes it everywhere. It's soft and \\\n",
        "super cute, and its face has a friendly look. It's \\\n",
        "a bit small for what I paid though. I think there \\\n",
        "might be other options that are bigger for the \\\n",
        "same price. It arrived a day earlier than expected, \\\n",
        "so I got to play with it myself before I gave it \\\n",
        "to her.\n",
        "\"\"\""
      ],
      "metadata": {
        "id": "zXvLxhcn-Eye"
      },
      "id": "zXvLxhcn-Eye",
      "execution_count": 17,
      "outputs": []
    },
    {
      "cell_type": "markdown",
      "source": [
        "Summarize with a focus on shipping and delivery"
      ],
      "metadata": {
        "id": "z6A1eeD0-XHL"
      },
      "id": "z6A1eeD0-XHL"
    },
    {
      "cell_type": "code",
      "source": [
        "prompt = f\"\"\"\n",
        "Your task is to generate a short summary of a product \\\n",
        "review from an ecommerce site to give feedback to the \\\n",
        "Shipping department.\n",
        "\n",
        "Summarize the review below, delimited by triple\n",
        "backticks, in at most 30 words, and focusing on any aspects \\\n",
        "that mention shipping and delivery of the product.\n",
        "\n",
        "Review: ```{prod_review}```\n",
        "\"\"\"\n",
        "\n",
        "response = get_completion(prompt)\n",
        "print(response.choices[0].message.content)\n"
      ],
      "metadata": {
        "colab": {
          "base_uri": "https://localhost:8080/"
        },
        "id": "QmI5M--S-RW2",
        "outputId": "ec774d1d-ad89-485b-f02a-4d8f1c648fc4"
      },
      "id": "QmI5M--S-RW2",
      "execution_count": 18,
      "outputs": [
        {
          "output_type": "stream",
          "name": "stdout",
          "text": [
            "The customer received the panda plush toy a day earlier than expected, allowing them to enjoy it before giving it to their daughter.\n"
          ]
        }
      ]
    },
    {
      "cell_type": "markdown",
      "source": [
        "Summarize with a focus on price and value\n"
      ],
      "metadata": {
        "id": "kdzeokja-cVd"
      },
      "id": "kdzeokja-cVd"
    },
    {
      "cell_type": "code",
      "source": [
        "prompt = f\"\"\"\n",
        "Your task is to generate a short summary of a product \\\n",
        "review from an ecommerce site to give feedback to the \\\n",
        "pricing department, responsible for determining the \\\n",
        "price of the product.\n",
        "\n",
        "Summarize the review below, delimited by triple\n",
        "backticks, in at most 30 words, and focusing on any aspects \\\n",
        "that are relevant to the price and perceived value.\n",
        "\n",
        "Review: ```{prod_review}```\n",
        "\"\"\"\n",
        "\n",
        "response = get_completion(prompt)\n",
        "print(response.choices[0].message.content)\n"
      ],
      "metadata": {
        "colab": {
          "base_uri": "https://localhost:8080/"
        },
        "id": "95HiipEK-fSM",
        "outputId": "011afb24-3b6e-442f-9c6d-bc7c1ba3ba1c"
      },
      "id": "95HiipEK-fSM",
      "execution_count": 19,
      "outputs": [
        {
          "output_type": "stream",
          "name": "stdout",
          "text": [
            "The panda plush toy is soft, cute, and loved by the daughter. However, the reviewer feels it's a bit small for the price paid, suggesting other options may offer better value. Arrived early.\n"
          ]
        }
      ]
    },
    {
      "cell_type": "markdown",
      "source": [
        "#### Comment\n",
        "- Summaries include topics that are not related to the topic of focus.\n",
        "## Try \"extract\" instead of \"summarize\""
      ],
      "metadata": {
        "id": "c-8Jctiw-i5w"
      },
      "id": "c-8Jctiw-i5w"
    },
    {
      "cell_type": "code",
      "source": [
        "prompt = f\"\"\"\n",
        "Your task is to extract relevant information from \\\n",
        "a product review from an ecommerce site to give \\\n",
        "feedback to the Shipping department.\n",
        "\n",
        "From the review below, delimited by triple quotes \\\n",
        "extract the information relevant to shipping and \\\n",
        "delivery. Limit to 30 words.\n",
        "\n",
        "Review: ```{prod_review}```\n",
        "\"\"\"\n",
        "\n",
        "response = get_completion(prompt)\n",
        "print(response.choices[0].message.content)\n"
      ],
      "metadata": {
        "colab": {
          "base_uri": "https://localhost:8080/"
        },
        "id": "nxrg56jE-oN4",
        "outputId": "8def82bb-cd49-4427-84a7-27ecbf8e3662"
      },
      "id": "nxrg56jE-oN4",
      "execution_count": null,
      "outputs": [
        {
          "output_type": "stream",
          "name": "stdout",
          "text": [
            "Feedback: The customer received the product a day earlier than expected, which was a positive experience. Delivery was prompt.\n"
          ]
        }
      ]
    },
    {
      "cell_type": "markdown",
      "source": [
        "# Inferring\n",
        "In this lesson, you will infer sentiment and topics from product reviews and news articles."
      ],
      "metadata": {
        "id": "1p7clIg1-3WT"
      },
      "id": "1p7clIg1-3WT"
    },
    {
      "cell_type": "code",
      "source": [
        "lamp_review = \"\"\"\n",
        "Needed a nice lamp for my bedroom, and this one had \\\n",
        "additional storage and not too high of a price point. \\\n",
        "Got it fast.  The string to our lamp broke during the \\\n",
        "transit and the company happily sent over a new one. \\\n",
        "Came within a few days as well. It was easy to put \\\n",
        "together.  I had a missing part, so I contacted their \\\n",
        "support and they very quickly got me the missing piece! \\\n",
        "Lumina seems to me to be a great company that cares \\\n",
        "about their customers and products!!\n",
        "\"\"\""
      ],
      "metadata": {
        "id": "Og5Fh34C-2Wy"
      },
      "id": "Og5Fh34C-2Wy",
      "execution_count": null,
      "outputs": []
    },
    {
      "cell_type": "markdown",
      "source": [
        "## Sentiment (positive/negative)"
      ],
      "metadata": {
        "id": "wfOYksZq-8NB"
      },
      "id": "wfOYksZq-8NB"
    },
    {
      "cell_type": "code",
      "source": [
        "prompt = f\"\"\"\n",
        "What is the sentiment of the following product review,\n",
        "which is delimited with triple backticks?\n",
        "\n",
        "Review text: '''{lamp_review}'''\n",
        "\"\"\"\n",
        "response = get_completion(prompt)\n",
        "print(response.choices[0].message.content)\n"
      ],
      "metadata": {
        "colab": {
          "base_uri": "https://localhost:8080/"
        },
        "id": "SoXiudc_-9rP",
        "outputId": "7a9de9ff-c4af-4813-9dad-2bacc601fb5f"
      },
      "id": "SoXiudc_-9rP",
      "execution_count": null,
      "outputs": [
        {
          "output_type": "stream",
          "name": "stdout",
          "text": [
            "The sentiment of the review is positive. The reviewer is satisfied with the lamp they purchased and appreciates the additional storage, fast delivery, and excellent customer service from the company. They describe Lumina as a great company that cares about their customers and products.\n"
          ]
        }
      ]
    },
    {
      "cell_type": "markdown",
      "source": [
        "## Identify types of emotions"
      ],
      "metadata": {
        "id": "cRJ9Ip_o_Oak"
      },
      "id": "cRJ9Ip_o_Oak"
    },
    {
      "cell_type": "code",
      "source": [
        "prompt = f\"\"\"\n",
        "Identify a list of emotions that the writer of the \\\n",
        "following review is expressing. Include no more than \\\n",
        "five items in the list. Format your answer as a list of \\\n",
        "lower-case words separated by commas.\n",
        "\n",
        "Review text: '''{lamp_review}'''\n",
        "\"\"\"\n",
        "response = get_completion(prompt)\n",
        "print(response.choices[0].message.content)\n"
      ],
      "metadata": {
        "colab": {
          "base_uri": "https://localhost:8080/"
        },
        "id": "pqWhysoJ_E6H",
        "outputId": "c7f0ea3b-80b2-46c3-d908-6e1ebd94468a"
      },
      "id": "pqWhysoJ_E6H",
      "execution_count": null,
      "outputs": [
        {
          "output_type": "stream",
          "name": "stdout",
          "text": [
            "happy, satisfied, grateful, impressed, content\n"
          ]
        }
      ]
    },
    {
      "cell_type": "markdown",
      "source": [
        "## Extract product and company name from customer reviews"
      ],
      "metadata": {
        "id": "TSxWHmwX_S5J"
      },
      "id": "TSxWHmwX_S5J"
    },
    {
      "cell_type": "code",
      "source": [
        "prompt = f\"\"\"\n",
        "Identify the following items from the review text:\n",
        "- Item purchased by reviewer\n",
        "- Company that made the item\n",
        "\n",
        "The review is delimited with triple backticks. \\\n",
        "Format your response as a JSON object with \\\n",
        "\"Item\" and \"Brand\" as the keys.\n",
        "If the information isn't present, use \"unknown\" \\\n",
        "as the value.\n",
        "Make your response as short as possible.\n",
        "\n",
        "Review text: '''{lamp_review}'''\n",
        "\"\"\"\n",
        "response = get_completion(prompt)\n",
        "print(response.choices[0].message.content)\n"
      ],
      "metadata": {
        "colab": {
          "base_uri": "https://localhost:8080/"
        },
        "id": "65mbu_kU_Ukj",
        "outputId": "d478fcea-8845-4491-df0b-b547919dbf36"
      },
      "id": "65mbu_kU_Ukj",
      "execution_count": null,
      "outputs": [
        {
          "output_type": "stream",
          "name": "stdout",
          "text": [
            "{\n",
            "    \"Item\": \"lamp\",\n",
            "    \"Brand\": \"Lumina\"\n",
            "}\n"
          ]
        }
      ]
    },
    {
      "cell_type": "markdown",
      "source": [
        "## Doing multiple tasks at once\n"
      ],
      "metadata": {
        "id": "W72R5mXE_YKm"
      },
      "id": "W72R5mXE_YKm"
    },
    {
      "cell_type": "code",
      "source": [
        "prompt = f\"\"\"\n",
        "Identify the following items from the review text:\n",
        "- Sentiment (positive or negative)\n",
        "- Is the reviewer expressing anger? (true or false)\n",
        "- Item purchased by reviewer\n",
        "- Company that made the item\n",
        "\n",
        "The review is delimited with triple backticks. \\\n",
        "Format your response as a JSON object with \\\n",
        "\"Sentiment\", \"Anger\", \"Item\" and \"Brand\" as the keys.\n",
        "If the information isn't present, use \"unknown\" \\\n",
        "as the value.\n",
        "Make your response as short as possible.\n",
        "Format the Anger value as a boolean.\n",
        "\n",
        "Review text: '''{lamp_review}'''\n",
        "\"\"\"\n",
        "response = get_completion(prompt)\n",
        "print(response.choices[0].message.content)\n"
      ],
      "metadata": {
        "colab": {
          "base_uri": "https://localhost:8080/"
        },
        "id": "4tBJXuIN_Z_5",
        "outputId": "57dc582d-f46a-4331-f154-fbe6c28ec62b"
      },
      "id": "4tBJXuIN_Z_5",
      "execution_count": null,
      "outputs": [
        {
          "output_type": "stream",
          "name": "stdout",
          "text": [
            "{\n",
            "    \"Sentiment\": \"positive\",\n",
            "    \"Anger\": false,\n",
            "    \"Item\": \"lamp\",\n",
            "    \"Brand\": \"Lumina\"\n",
            "}\n"
          ]
        }
      ]
    },
    {
      "cell_type": "markdown",
      "source": [
        "## Inferring topics"
      ],
      "metadata": {
        "id": "HBARzLKh_fRR"
      },
      "id": "HBARzLKh_fRR"
    },
    {
      "cell_type": "code",
      "source": [
        "story = \"\"\"\n",
        "In a recent survey conducted by the government,\n",
        "public sector employees were asked to rate their level\n",
        "of satisfaction with the department they work at.\n",
        "The results revealed that NASA was the most popular\n",
        "department with a satisfaction rating of 95%.\n",
        "\n",
        "One NASA employee, John Smith, commented on the findings,\n",
        "stating, \"I'm not surprised that NASA came out on top.\n",
        "It's a great place to work with amazing people and\n",
        "incredible opportunities. I'm proud to be a part of\n",
        "such an innovative organization.\"\n",
        "\n",
        "The results were also welcomed by NASA's management team,\n",
        "with Director Tom Johnson stating, \"We are thrilled to\n",
        "hear that our employees are satisfied with their work at NASA.\n",
        "We have a talented and dedicated team who work tirelessly\n",
        "to achieve our goals, and it's fantastic to see that their\n",
        "hard work is paying off.\"\n",
        "\n",
        "The survey also revealed that the\n",
        "Social Security Administration had the lowest satisfaction\n",
        "rating, with only 45% of employees indicating they were\n",
        "satisfied with their job. The government has pledged to\n",
        "address the concerns raised by employees in the survey and\n",
        "work towards improving job satisfaction across all departments.\n",
        "\"\"\"\n"
      ],
      "metadata": {
        "id": "G5xkeht1_hDO"
      },
      "id": "G5xkeht1_hDO",
      "execution_count": null,
      "outputs": []
    },
    {
      "cell_type": "code",
      "source": [
        "prompt = f\"\"\"\n",
        "Determine five topics that are being discussed in the \\\n",
        "following text, which is delimited by triple backticks.\n",
        "\n",
        "Make each item one or two words long.\n",
        "\n",
        "Format your response as a list of items separated by commas.\n",
        "\n",
        "Text sample: '''{story}'''\n",
        "\"\"\"\n",
        "response = get_completion(prompt)\n",
        "print(response.choices[0].message.content)\n"
      ],
      "metadata": {
        "colab": {
          "base_uri": "https://localhost:8080/"
        },
        "id": "34EKUEHW_ivw",
        "outputId": "6ff57087-b032-4fb4-9514-a5f0f17a9077"
      },
      "id": "34EKUEHW_ivw",
      "execution_count": null,
      "outputs": [
        {
          "output_type": "stream",
          "name": "stdout",
          "text": [
            "1. Survey\n",
            "2. Satisfaction\n",
            "3. NASA\n",
            "4. Social Security Administration\n",
            "5. Job satisfaction\n"
          ]
        }
      ]
    },
    {
      "cell_type": "markdown",
      "source": [
        "# Transforming\n",
        "\n",
        "In this notebook, we will explore how to use Large Language Models for text transformation tasks such as language translation, spelling and grammar checking, tone adjustment, and format conversion."
      ],
      "metadata": {
        "id": "K4ymkHVG_zrc"
      },
      "id": "K4ymkHVG_zrc"
    },
    {
      "cell_type": "code",
      "source": [
        "user_messages = [\n",
        "  \"La performance du système est plus lente que d'habitude.\",  # System performance is slower than normal\n",
        "  \"Mi monitor tiene píxeles que no se iluminan.\",              # My monitor has pixels that are not lighting\n",
        "  \"Il mio mouse non funziona\",                                 # My mouse is not working\n",
        "  \"Mój klawisz Ctrl jest zepsuty\",                             # My keyboard has a broken control key\n",
        "  \"我的屏幕在闪烁\"                                               # My screen is flashing\n",
        "]\n",
        "\n",
        "for issue in user_messages:\n",
        "    prompt = f\"Tell me what language this is: ```{issue}```\"\n",
        "    lang = get_completion(prompt)\n",
        "    print(f\"Original message ({lang.choices[0].message.content}): {issue}\")\n",
        "\n",
        "    prompt = f\"\"\"\n",
        "    Translate the following  text to English \\\n",
        "    and Korean: ```{issue}```\n",
        "    \"\"\"\n",
        "    response = get_completion(prompt)\n",
        "    print(response.choices[0].message.content, \"\\n\")"
      ],
      "metadata": {
        "colab": {
          "base_uri": "https://localhost:8080/"
        },
        "id": "IWrufk5g_2_B",
        "outputId": "0d985e74-2a79-44e9-cc14-dccf8657d21c"
      },
      "id": "IWrufk5g_2_B",
      "execution_count": null,
      "outputs": [
        {
          "output_type": "stream",
          "name": "stdout",
          "text": [
            "Original message (This is French.): La performance du système est plus lente que d'habitude.\n",
            "English: \"The system performance is slower than usual.\"\n",
            "\n",
            "Korean: \"시스템 성능이 평소보다 느립니다.\" \n",
            "\n",
            "Original message (This is Spanish.): Mi monitor tiene píxeles que no se iluminan.\n",
            "English: \"My monitor has pixels that do not light up.\"\n",
            "Korean: \"내 모니터에는 빛나지 않는 픽셀이 있습니다.\" \n",
            "\n",
            "Original message (Italian): Il mio mouse non funziona\n",
            "English: My mouse is not working\n",
            "Korean: 내 마우스가 작동하지 않습니다 \n",
            "\n",
            "Original message (This is Polish.): Mój klawisz Ctrl jest zepsuty\n",
            "English: My Ctrl key is broken\n",
            "Korean: 제 Ctrl 키가 고장 났어요 \n",
            "\n",
            "Original message (This is Chinese.): 我的屏幕在闪烁\n",
            "English: My screen is flickering\n",
            "Korean: 내 화면이 깜박거립니다 \n",
            "\n"
          ]
        }
      ]
    },
    {
      "cell_type": "markdown",
      "source": [
        "## Tone Transformation\n",
        "Writing can vary based on the intended audience. ChatGPT can produce different tones."
      ],
      "metadata": {
        "id": "R3Ilu7KgAVU3"
      },
      "id": "R3Ilu7KgAVU3"
    },
    {
      "cell_type": "code",
      "source": [
        "prompt = f\"\"\"\n",
        "Translate the following from slang to a business letter:\n",
        "'Dude, This is Joe, check out this spec on this standing lamp.'\n",
        "\"\"\"\n",
        "response = get_completion(prompt)\n",
        "print(response.choices[0].message.content)"
      ],
      "metadata": {
        "colab": {
          "base_uri": "https://localhost:8080/"
        },
        "id": "Py9zc_T0AXDU",
        "outputId": "855803de-b2a1-44bc-adc4-588477c65ac8"
      },
      "id": "Py9zc_T0AXDU",
      "execution_count": null,
      "outputs": [
        {
          "output_type": "stream",
          "name": "stdout",
          "text": [
            "Dear Sir/Madam,\n",
            "\n",
            "I am writing to bring to your attention the specifications of a standing lamp that I believe may be of interest to you. \n",
            "\n",
            "Sincerely,\n",
            "Joe\n"
          ]
        }
      ]
    },
    {
      "cell_type": "markdown",
      "source": [
        "## Format Conversion\n",
        "ChatGPT can translate between formats. The prompt should describe the input and output formats."
      ],
      "metadata": {
        "id": "0YScIqHUAck6"
      },
      "id": "0YScIqHUAck6"
    },
    {
      "cell_type": "code",
      "source": [
        "data_json = { \"resturant employees\" :[\n",
        "    {\"name\":\"Shyam\", \"email\":\"shyamjaiswal@gmail.com\"},\n",
        "    {\"name\":\"Bob\", \"email\":\"bob32@gmail.com\"},\n",
        "    {\"name\":\"Jai\", \"email\":\"jai87@gmail.com\"}\n",
        "]}\n",
        "\n",
        "prompt = f\"\"\"\n",
        "Translate the following python dictionary from JSON to an HTML \\\n",
        "table with column headers and title: {data_json}\n",
        "\"\"\"\n",
        "response = get_completion(prompt)\n",
        "print(response.choices[0].message.content)"
      ],
      "metadata": {
        "colab": {
          "base_uri": "https://localhost:8080/"
        },
        "id": "uk31pIJzAfuF",
        "outputId": "14db21cb-37be-424f-e1d6-d5708dc2f56b"
      },
      "id": "uk31pIJzAfuF",
      "execution_count": null,
      "outputs": [
        {
          "output_type": "stream",
          "name": "stdout",
          "text": [
            "<html>\n",
            "<head>\n",
            "    <title>Restaurant Employees</title>\n",
            "</head>\n",
            "<body>\n",
            "    <table border=\"1\">\n",
            "        <tr>\n",
            "            <th>Name</th>\n",
            "            <th>Email</th>\n",
            "        </tr>\n",
            "        <tr>\n",
            "            <td>Shyam</td>\n",
            "            <td>shyamjaiswal@gmail.com</td>\n",
            "        </tr>\n",
            "        <tr>\n",
            "            <td>Bob</td>\n",
            "            <td>bob32@gmail.com</td>\n",
            "        </tr>\n",
            "        <tr>\n",
            "            <td>Jai</td>\n",
            "            <td>jai87@gmail.com</td>\n",
            "        </tr>\n",
            "    </table>\n",
            "</body>\n",
            "</html>\n"
          ]
        }
      ]
    },
    {
      "cell_type": "code",
      "source": [
        "from IPython.display import display, Markdown, Latex, HTML, JSON\n",
        "display(HTML(response.choices[0].message.content))"
      ],
      "metadata": {
        "colab": {
          "base_uri": "https://localhost:8080/",
          "height": 255
        },
        "id": "C3bIduN4AjFC",
        "outputId": "254a2a38-209c-4161-cb22-6ff8b6dfee1b"
      },
      "id": "C3bIduN4AjFC",
      "execution_count": null,
      "outputs": [
        {
          "output_type": "display_data",
          "data": {
            "text/plain": [
              "<IPython.core.display.HTML object>"
            ],
            "text/html": [
              "Here is the HTML table representation of the given JSON:\n",
              "\n",
              "```html\n",
              "<!DOCTYPE html>\n",
              "<html>\n",
              "<head>\n",
              "    <title>Restaurant Employees</title>\n",
              "    <style>\n",
              "        table {\n",
              "            width: 100%;\n",
              "            border-collapse: collapse;\n",
              "        }\n",
              "        th, td {\n",
              "            border: 1px solid black;\n",
              "            padding: 8px;\n",
              "            text-align: left;\n",
              "        }\n",
              "    </style>\n",
              "</head>\n",
              "<body>\n",
              "    <h2>Restaurant Employees</h2>\n",
              "    <table>\n",
              "        <tr>\n",
              "            <th>Name</th>\n",
              "            <th>Email</th>\n",
              "        </tr>\n",
              "        <tr>\n",
              "            <td>Shyam</td>\n",
              "            <td>shyamjaiswal@gmail.com</td>\n",
              "        </tr>\n",
              "        <tr>\n",
              "            <td>Bob</td>\n",
              "            <td>bob32@gmail.com</td>\n",
              "        </tr>\n",
              "        <tr>\n",
              "            <td>Jai</td>\n",
              "            <td>jai87@gmail.com</td>\n",
              "        </tr>\n",
              "    </table>\n",
              "</body>\n",
              "</html>\n",
              "```\n",
              "\n",
              "This HTML code creates a table with the title \"Restaurant Employees\" and two columns \"Name\" and \"Email\". Each row in the table represents an employee with their name and email."
            ]
          },
          "metadata": {}
        }
      ]
    },
    {
      "cell_type": "markdown",
      "source": [
        "# Expanding\n",
        "In this lesson, you will generate customer service emails that are tailored to each customer's review.\n",
        "\n",
        "## Customize the automated reply to a customer email"
      ],
      "metadata": {
        "id": "cIbTYv_uBtV3"
      },
      "id": "cIbTYv_uBtV3"
    },
    {
      "cell_type": "code",
      "source": [
        "# given the sentiment from the lesson on \"inferring\",\n",
        "# and the original customer message, customize the email\n",
        "sentiment = \"negative\"\n",
        "\n",
        "# review for a blender\n",
        "review = f\"\"\"\n",
        "So, they still had the 17 piece system on seasonal \\\n",
        "sale for around $49 in the month of November, about \\\n",
        "half off, but for some reason (call it price gouging) \\\n",
        "around the second week of December the prices all went \\\n",
        "up to about anywhere from between $70-$89 for the same \\\n",
        "system. And the 11 piece system went up around $10 or \\\n",
        "so in price also from the earlier sale price of $29. \\\n",
        "So it looks okay, but if you look at the base, the part \\\n",
        "where the blade locks into place doesn’t look as good \\\n",
        "as in previous editions from a few years ago, but I \\\n",
        "plan to be very gentle with it (example, I crush \\\n",
        "very hard items like beans, ice, rice, etc. in the \\\n",
        "blender first then pulverize them in the serving size \\\n",
        "I want in the blender then switch to the whipping \\\n",
        "blade for a finer flour, and use the cross cutting blade \\\n",
        "first when making smoothies, then use the flat blade \\\n",
        "if I need them finer/less pulpy). Special tip when making \\\n",
        "smoothies, finely cut and freeze the fruits and \\\n",
        "vegetables (if using spinach-lightly stew soften the \\\n",
        "spinach then freeze until ready for use-and if making \\\n",
        "sorbet, use a small to medium sized food processor) \\\n",
        "that you plan to use that way you can avoid adding so \\\n",
        "much ice if at all-when making your smoothie. \\\n",
        "After about a year, the motor was making a funny noise. \\\n",
        "I called customer service but the warranty expired \\\n",
        "already, so I had to buy another one. FYI: The overall \\\n",
        "quality has gone done in these types of products, so \\\n",
        "they are kind of counting on brand recognition and \\\n",
        "consumer loyalty to maintain sales. Got it in about \\\n",
        "two days.\n",
        "\"\"\""
      ],
      "metadata": {
        "id": "vhlG1bwhBxQN"
      },
      "id": "vhlG1bwhBxQN",
      "execution_count": null,
      "outputs": []
    },
    {
      "cell_type": "code",
      "source": [
        "prompt = f\"\"\"\n",
        "You are a customer service AI assistant.\n",
        "Your task is to send an email reply to a valued customer.\n",
        "Given the customer email delimited by ```, \\\n",
        "Generate a reply to thank the customer for their review.\n",
        "If the sentiment is positive or neutral, thank them for \\\n",
        "their review.\n",
        "If the sentiment is negative, apologize and suggest that \\\n",
        "they can reach out to customer service.\n",
        "Make sure to use specific details from the review.\n",
        "Write in a concise and professional tone.\n",
        "Sign the email as `AI customer agent`.\n",
        "Customer review: ```{review}```\n",
        "Review sentiment: {sentiment}\n",
        "\"\"\"\n",
        "response = get_completion(prompt)\n",
        "print(response.choices[0].message.content)"
      ],
      "metadata": {
        "colab": {
          "base_uri": "https://localhost:8080/"
        },
        "id": "h5u5UFOpBzHI",
        "outputId": "8b6b211c-e7f2-4186-e1c5-65393e43b7bf"
      },
      "id": "h5u5UFOpBzHI",
      "execution_count": null,
      "outputs": [
        {
          "output_type": "stream",
          "name": "stdout",
          "text": [
            "Dear valued customer,\n",
            "\n",
            "Thank you for taking the time to share your detailed feedback with us. We are sorry to hear about your experience with the pricing changes and the decrease in quality of the product. We apologize for any inconvenience this may have caused you.\n",
            "\n",
            "If you have any further concerns or would like to discuss this matter further, please feel free to reach out to our customer service team. They will be more than happy to assist you.\n",
            "\n",
            "Thank you again for your review and for choosing our products. We appreciate your feedback as it helps us improve our services.\n",
            "\n",
            "AI customer agent\n"
          ]
        }
      ]
    },
    {
      "cell_type": "code",
      "source": [
        "prompt = f\"\"\"\n",
        "You are a customer service AI assistant.\n",
        "Your task is to send an email reply to a valued customer.\n",
        "Given the customer email delimited by ```, \\\n",
        "Generate a reply to thank the customer for their review.\n",
        "If the sentiment is positive or neutral, thank them for \\\n",
        "their review.\n",
        "If the sentiment is negative, apologize and suggest that \\\n",
        "they can reach out to customer service.\n",
        "Make sure to use specific details from the review.\n",
        "Write in a concise and professional tone.\n",
        "Sign the email as `AI customer agent`.\n",
        "Customer review: ```{review}```\n",
        "Review sentiment: {sentiment}\n",
        "\"\"\"\n",
        "response = get_completion(prompt, temperature=0.7)\n",
        "print(response.choices[0].message.content)"
      ],
      "metadata": {
        "colab": {
          "base_uri": "https://localhost:8080/"
        },
        "id": "ZA8_frt0B-Vs",
        "outputId": "9618fb46-5a34-4b8b-ef4a-9c10400eeddf"
      },
      "id": "ZA8_frt0B-Vs",
      "execution_count": null,
      "outputs": [
        {
          "output_type": "stream",
          "name": "stdout",
          "text": [
            "Dear Valued Customer,\n",
            "\n",
            "Thank you for taking the time to share your feedback with us. We are truly sorry to hear about your experience with the pricing changes and the quality of the 17 piece system you purchased. We apologize for any inconvenience this may have caused you.\n",
            "\n",
            "If you have any further concerns or would like to discuss this matter further, please do not hesitate to reach out to our customer service team who will be more than happy to assist you.\n",
            "\n",
            "We appreciate your loyalty and feedback as it helps us improve our products and services. We hope to have the opportunity to serve you better in the future.\n",
            "\n",
            "Thank you once again for your review.\n",
            "\n",
            "AI Customer Agent\n"
          ]
        }
      ]
    }
  ],
  "metadata": {
    "kernelspec": {
      "display_name": "Python 3 (ipykernel)",
      "language": "python",
      "name": "python3"
    },
    "language_info": {
      "codemirror_mode": {
        "name": "ipython",
        "version": 3
      },
      "file_extension": ".py",
      "mimetype": "text/x-python",
      "name": "python",
      "nbconvert_exporter": "python",
      "pygments_lexer": "ipython3",
      "version": "3.10.9"
    },
    "colab": {
      "provenance": []
    }
  },
  "nbformat": 4,
  "nbformat_minor": 5
}